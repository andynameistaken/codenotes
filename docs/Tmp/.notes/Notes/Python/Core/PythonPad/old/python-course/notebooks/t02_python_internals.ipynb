{
 "cells": [
  {
   "cell_type": "markdown",
   "metadata": {
    "pycharm": {
     "name": "#%% md\n"
    }
   },
   "source": [
    "# Python Internals\n",
    "\n",
    "## Basic Informations\n",
    "\n",
    "- Python code is translated into intermediate code, which has to be executed by a virtual machine, known as the PVM, the Python Virtual Machine. \n",
    "- This is a similar approach to the one taken by Java. \n",
    "- There is even a way of translating Python programs into Java byte code for the Java Virtual Machine (JVM) - this can be achieved with Jython.\n",
    "- Python takes necessary steps for compiling automatically, but it can be done manually by:\n",
    "\n",
    "a) `py_compile` module: \n"
   ]
  },
  {
   "cell_type": "code",
   "execution_count": 108,
   "metadata": {
    "pycharm": {
     "name": "#%%\n"
    }
   },
   "outputs": [
    {
     "name": "stdout",
     "output_type": "stream",
     "text": [
      "./compile_example/:\n",
      "__pycache__\n",
      "test.py\n",
      "./compile_example/__pycache__/:\n",
      "test.cpython-39.pyc\n"
     ]
    }
   ],
   "source": [
    "import py_compile \n",
    "import os\n",
    "import shutil\n",
    "\n",
    "\n",
    "# Set path to files\n",
    "dir_path = './compile_example/'\n",
    "if not os.path.exists(dir_path):\n",
    "    os.mkdir(dir_path)\n",
    "\n",
    "# Create a file called \"test.py\"\n",
    "with open(dir_path + 'test.py', 'w'): pass\n",
    "\n",
    "# Compile the file\n",
    "py_compile.compile('./compile_example/test.py')\n",
    "\n",
    "# Create list of files in the directory\n",
    "dirs = os.listdir(dir_path)\n",
    "print(dir_path +\":\")\n",
    "\n",
    "# Print out every file in the directory\n",
    "for file in dirs:\n",
    "    print(file) \n",
    "# Remove \"test.py\" as it is not longer needed\n",
    "os.remove(dir_path + 'test.py')\n",
    "\n",
    "# Print \"__pycache__\" directory\n",
    "dirs = os.listdir(dir_path + '__pycache__/')\n",
    "print(dir_path + '__pycache__/:')\n",
    "for file in dirs:\n",
    "    print(file)\n",
    "\n",
    "# remove \"compile_example\" directory  (if it exists) with all its contents\n",
    "if os.path.exists(dir_path):\n",
    "    shutil.rmtree(dir_path)"
   ]
  },
  {
   "cell_type": "markdown",
   "metadata": {
    "pycharm": {
     "name": "#%% md\n"
    }
   },
   "source": [
    "b) shell prompt: `python -m py_compile <file>`\n",
    "\n",
    "---\n",
    "\n",
    "```shell\n",
    "❯ ls\n",
    " test_1.py\n",
    "❯ python3 -m py_compile test_1.py\n",
    "❯ ls\n",
    " __pycache__   test_1.py\n",
    "❯ cd __pycache__/\n",
    "❯ ls\n",
    " test_1.cpython-39.pyc\n",
    "```\n",
    "\n",
    "---\n"
   ]
  },
  {
   "cell_type": "markdown",
   "metadata": {
    "pycharm": {
     "name": "#%% md\n"
    }
   },
   "source": [
    "c) `compileall` module for  compiling all Python files in the directory \n",
    "\n",
    "---\n",
    "\n",
    "```sh\n",
    "❯ python3 -m compileall .\n",
    "Listing '.'...\n",
    "Compiling './test_1.py'...\n",
    "Compiling './test_2.py'...\n",
    "❯ ls\n",
    " __pycache__   test_1.py   test_2.py\n",
    "❯ cd __pycache__/\n",
    "❯ ls\n",
    " test_1.cpython-39.pyc   test_2.cpython-39.pyc\n",
    "```\n",
    "\n",
    "---"
   ]
  },
  {
   "cell_type": "markdown",
   "metadata": {
    "pycharm": {
     "name": "#%% md\n"
    }
   },
   "source": [
    "- Python only creates .pyc files for imported modules.\n",
    "- Above options can be useful when installing modules for shared use, especially if some of the users may not have permission to write the byte-code cache files in the directory containing the source code.\n",
    "- Python will check, if a compiled version with the .pyc suffix exists. This file has to be newer than the file with the .py suffix. \n",
    "    - If such a file exists, Python will load the byte code, which will speed up the start up time of the script. If there is no byte code version, Python will create the byte code before it starts the execution of the program. "
   ]
  },
  {
   "cell_type": "markdown",
   "metadata": {
    "pycharm": {
     "name": "#%% md\n"
    }
   },
   "source": [
    "## Difference Between Compiler and Interpreter\n",
    "\n",
    "### Compiler\n",
    "\n",
    "- A compiler is a computer program that transforms (translates) source code of a programming language (the source language) into another computer language (the target language).\n",
    "In most cases compilers are used to transform source code into executable program, i.e. they translate code from high-level programming languages into low (or lower) level languages, mostly assembly or machine code.\n",
    "\n",
    "### Interpreter\n",
    "\n",
    "- In computer science, an interpreter is a computer program that directly executes instructions written in a programming or scripting language, without requiring them previously to have been compiled into a machine language program.\n",
    "\n",
    "- An interpreter generally uses one of the following strategies for program execution:\n",
    "\n",
    "    1. Parse the source code and perform its behavior directly;\n",
    "    2. Translate source code into some efficient intermediate representation or object code and immediately execute that;\n",
    "    3. Explicitly execute stored precompiled bytecode made by a compiler and matched with the interpreter Virtual Machine."
   ]
  },
  {
   "cell_type": "markdown",
   "metadata": {
    "pycharm": {
     "name": "#%% md\n"
    }
   },
   "source": [
    "## Python Code Style\n",
    "\n",
    "### Expressions\n",
    "- An expression usually refers to a piece of code that can be evaluated to a value.\n",
    "\n",
    "- examples:\n",
    "    - `1 + 1`\n",
    "    - `5 > 3`\n",
    "\n",
    "\n",
    "### Statements\n",
    "\n",
    "- A statement refers to a piece of code that executes a specific instruction or tells the computer to complete a task. \n",
    "\n",
    "- examples:\n",
    "    - `if a > 5:`\n",
    "    - `x = 4`\n",
    "  \n"
   ]
  },
  {
   "cell_type": "markdown",
   "metadata": {},
   "source": [
    "### Code Blocks\n",
    "- A block is a group of statements in a program or script. \n",
    "- Usually, it consists of at least one statement and declarations for the block, depending on the programming or scripting language. \n",
    "- A language which allows grouping with blocks, is called a **block structured language**.\n",
    "- Generally, blocks can contain blocks as well, so we get a nested block structure. \n",
    "- A block in a script or program functions as a means to group statements to be treated as if they were one statement. \n",
    "- In many cases, it also serves as a way to limit the lexical scope of variables and functions.\n",
    "\n",
    " ![Code Blocks](/repos/python-course/images/code-blocks.png)\n",
    "\n",
    "- Different languages have different recipes for code blocks.\n",
    "\n",
    "- For example Java uses curly braces to delimit different code blocks.\n",
    "\n",
    "- Here is simple Java program that will print out any number bigger than 5 in 0 - 10 (excluding 10) range:\n",
    "\n",
    "---\n",
    "\n",
    "```java\n",
    "for (int i = 0; i < 10; i++) { // block 1\n",
    "    if ( i > 5) {                   // block 2\n",
    "        System.out.println(i)\n",
    "    }                               // block 2 end\n",
    "} // block 1 end\n",
    "\n",
    "```\n",
    "\n",
    "---\n",
    "\n",
    "- Spaces in code above (except a type and name of variable - `int i` - space here is required so java will know when type declaration ends) are used only for readability purposes and Java Virtual Machine ignores them, so code below will work as well:\n",
    "\n",
    "---\n",
    "\n",
    "```java\n",
    "for(int i=0;i<10;i++){if( i>5){System.out.println(i)}} \n",
    "\n",
    "```\n",
    "\n",
    "---\n",
    "- Python uses a different and quite unique approach it uses space as delimiters of code blocks and colons for the end of functions, loops and conditional statements.\n",
    "- Python uses four spaces as default indentation spaces.\n",
    "- However, the number of spaces can be anything; it is up to the user. \n",
    "- A minimum of one space is needed to indent a statement.\n",
    "- The first line of python code cannot have an indentation\n"
   ]
  },
  {
   "cell_type": "markdown",
   "metadata": {
    "pycharm": {
     "name": "#%% md\n"
    }
   },
   "source": [
    "- As the example here is rewritten mentioned earlier Java code in Python:"
   ]
  },
  {
   "cell_type": "code",
   "execution_count": 114,
   "metadata": {
    "pycharm": {
     "name": "#%%\n"
    }
   },
   "outputs": [
    {
     "name": "stdout",
     "output_type": "stream",
     "text": [
      "6\n",
      "7\n",
      "8\n",
      "9\n"
     ]
    }
   ],
   "source": [
    " # block 1\n",
    "for i in range(10):    \n",
    "    # block 2\n",
    "    if i > 5:               \n",
    "        print(i)\n",
    "    # block 2 end\n",
    "# block 1 end"
   ]
  },
  {
   "cell_type": "markdown",
   "metadata": {
    "pycharm": {
     "name": "#%% md\n"
    }
   },
   "source": []
  }
 ],
 "metadata": {
  "kernelspec": {
   "display_name": "Python 3.9.13 64-bit",
   "language": "python",
   "name": "python3"
  },
  "language_info": {
   "codemirror_mode": {
    "name": "ipython",
    "version": 3
   },
   "file_extension": ".py",
   "mimetype": "text/x-python",
   "name": "python",
   "nbconvert_exporter": "python",
   "pygments_lexer": "ipython3",
   "version": "3.9.13"
  },
  "vscode": {
   "interpreter": {
    "hash": "aee8b7b246df8f9039afb4144a1f6fd8d2ca17a180786b69acc140d282b71a49"
   }
  }
 },
 "nbformat": 4,
 "nbformat_minor": 2
}
