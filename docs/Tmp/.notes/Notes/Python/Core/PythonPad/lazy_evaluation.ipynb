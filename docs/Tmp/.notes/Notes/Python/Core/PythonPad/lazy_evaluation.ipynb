{
 "cells": [
  {
   "cell_type": "markdown",
   "metadata": {},
   "source": [
    "# Lazy Evaluation"
   ]
  },
  {
   "cell_type": "markdown",
   "metadata": {},
   "source": [
    "- Lazy evaluation is a strategy used in programming where the evaluation of an expression is delayed until it is needed.\n",
    "- Lazy evaluation can be useful in situations:\n",
    "  - the calculation of a sequence of values is expensive or memory-intensive\n",
    "  - where the entire sequence does not need to be calculated upfront"
   ]
  }
 ],
 "metadata": {
  "kernelspec": {
   "display_name": "Python 3.11.2 64-bit",
   "language": "python",
   "name": "python3"
  },
  "language_info": {
   "name": "python",
   "version": "3.11.2"
  },
  "orig_nbformat": 4,
  "vscode": {
   "interpreter": {
    "hash": "e8161cb82d7b55ccc5b19c5ce3595fd4b239d7c1873be9f0166c26b9f15d08a6"
   }
  }
 },
 "nbformat": 4,
 "nbformat_minor": 2
}
