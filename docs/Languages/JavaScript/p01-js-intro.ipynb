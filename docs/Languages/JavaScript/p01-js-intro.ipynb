{
 "cells": [
  {
   "cell_type": "markdown",
   "metadata": {},
   "source": [
    "# JavaScript Intro\n",
    "\n",
    "## Why JavaScript is so useful today\n",
    "\n",
    "There are two main reasons why JavaScript became so popular in web development;\n",
    "its ability to render dynamic content, and its ability to perform asynchronous\n",
    "tasks. \n",
    "\n",
    "### Static vs dynamic web content\n",
    "\n",
    "One of the early benefits of JavaScript was its ability to handle dynamic\n",
    "content. In the early days of the web, all web pages were static, which means\n",
    "that the data displayed on the page was loaded by the browser ahead of time,\n",
    "and the page would need to be re-loaded for any updates to show up. Websites\n",
    "are dynamic when they are able to render new data without reloading the page,\n",
    "and this is the type of behavior that JavaScript was designed to do. For\n",
    "example, because of JavaScript, we are able to see new messages show up in a\n",
    "social media feed without having to refresh the page.\n",
    "\n",
    "### Performing asynchronous tasks\n",
    "In order for the user to have a smooth experience working with a dynamic\n",
    "website, it needs to be able to accomplish tasks asynchronously. Many\n",
    "programming languages operate synchronously, which means that one operation\n",
    "needs to be completed before the next operation will begin. Asynchronous\n",
    "operations, however, enable tasks to be performed concurrently rather than\n",
    "sequentially. This means that a web application can handle multiple requests or\n",
    "tasks simultaneously, improving responsiveness and efficiency. "
   ]
  },
  {
   "cell_type": "markdown",
   "metadata": {},
   "source": [
    "JavaScript is typically classified as an interpreted language, which implies\n",
    "that the JavaScript engine processes the code line by line, converting it into\n",
    "machine code (binary code that the computer can understand) at runtime.\n",
    "However, it's important to note that modern JavaScript engines, such as V8 used\n",
    "in Chrome and Node.js, employ a technique known as Just-In-Time (JIT)\n",
    "compilation. This technique compiles JavaScript to machine code just before it\n",
    "is executed, enhancing performance. This approach is a hybrid of interpretation\n",
    "and compilation.\n",
    "\n",
    "In contrast, compiled languages like C or Java are usually transformed into\n",
    "machine code or bytecode in their entirety before execution. This can offer\n",
    "performance advantages but doesn't provide the flexibility inherent to\n",
    "interpreted languages."
   ]
  }
 ],
 "metadata": {
  "kernelspec": {
   "display_name": "JavaScript (Node.js)",
   "language": "javascript",
   "name": "javascript"
  },
  "language_info": {
   "file_extension": ".js",
   "mimetype": "application/javascript",
   "name": "javascript",
   "version": "20.12.0"
  }
 },
 "nbformat": 4,
 "nbformat_minor": 2
}
