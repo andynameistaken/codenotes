{
 "cells": [
  {
   "cell_type": "markdown",
   "metadata": {},
   "source": [
    "# Cosine Similarity Implementation\n",
    "\n",
    "## Needed libraries"
   ]
  },
  {
   "cell_type": "code",
   "execution_count": 3,
   "metadata": {},
   "outputs": [],
   "source": [
    "# For list type hint\n",
    "from typing import List\n",
    "\n",
    "# Library for command-line argument parsing\n",
    "import argparse\n",
    "\n",
    "# For concurrent file reading\n",
    "from concurrent.futures import ThreadPoolExecutor\n",
    "\n",
    "# For TF-IDF calculation\n",
    "from sklearn.feature_extraction.text import TfidfVectorizer\n",
    "\n",
    "# For cosine similarity calculation\n",
    "from sklearn.metrics.pairwise import cosine_similarity\n",
    "\n",
    "# For matrix type hint\n",
    "from scipy.sparse import csr_matrix\n"
   ]
  },
  {
   "cell_type": "markdown",
   "metadata": {},
   "source": [
    "## Functions"
   ]
  },
  {
   "cell_type": "markdown",
   "metadata": {},
   "source": [
    "  - Many functions might not have explanation, because they are written in self-explanatory manner: verbose names with type hints and DocString attached.\n",
    "\n",
    "### File Reading"
   ]
  },
  {
   "cell_type": "markdown",
   "metadata": {},
   "source": [
    "#### Single File\n",
    "- it might be improved - whole file is read into memory"
   ]
  },
  {
   "cell_type": "code",
   "execution_count": 4,
   "metadata": {},
   "outputs": [],
   "source": [
    "\n",
    "def read_single_file(file_path: str) -> str:\n",
    "    \"\"\"\n",
    "    Read the content of a file given its file path.\n",
    "    If the file does not exist or an error occurs, raise an error.\n",
    "    \"\"\"\n",
    "    try:\n",
    "        with open(file_path, 'r') as f:\n",
    "            return f.read()\n",
    "    except FileNotFoundError:\n",
    "        raise FileNotFoundError(f\"File {file_path} does not exist.\")\n",
    "    except IOError as error:\n",
    "        raise IOError(f\"An error occurred while reading {file_path}: {error}\")"
   ]
  },
  {
   "cell_type": "markdown",
   "metadata": {},
   "source": [
    "- This function might change (https://github.com/colesbury/nogil-3.12), because probably I will use it for CPU intensive\n",
    "    tasks that need to be done in parallel (for now I don't know if API is 100% compatible)."
   ]
  },
  {
   "cell_type": "markdown",
   "metadata": {},
   "source": [
    "#### Multiple Files\n",
    "\n",
    "- It is written in modular style - reading single file might be changed and program will still work as long as reading\n",
    "  single file returns single string \n",
    "- Once the `with` block is completed, the thread pool is automatically shut down with `shutdown()` function"
   ]
  },
  {
   "cell_type": "code",
   "execution_count": 5,
   "metadata": {},
   "outputs": [],
   "source": [
    "def read_multiple_files(file_paths: List[str]) -> List[str]:\n",
    "    \"\"\"\n",
    "    Read multiple files concurrently and return their content.\n",
    "    \"\"\"\n",
    "    with ThreadPoolExecutor() as executor:\n",
    "        return list(executor.map(read_single_file, file_paths))"
   ]
  },
  {
   "cell_type": "markdown",
   "metadata": {},
   "source": [
    "### Validation"
   ]
  },
  {
   "cell_type": "markdown",
   "metadata": {},
   "source": [
    "#### File Paths\n",
    "- Unique file paths checker"
   ]
  },
  {
   "cell_type": "code",
   "execution_count": null,
   "metadata": {},
   "outputs": [],
   "source": [
    "\n",
    "def validate_file_paths(file_paths: List[str]) -> None:\n",
    "    \"\"\"\n",
    "    Validate that all file paths are unique. Raise ValueError if they are not.\n",
    "    \"\"\"\n",
    "    if len(set(file_paths)) != len(file_paths):\n",
    "        raise ValueError(\"All files must be unique.\")"
   ]
  },
  {
   "cell_type": "markdown",
   "metadata": {},
   "source": [
    "#### "
   ]
  },
  {
   "cell_type": "markdown",
   "metadata": {},
   "source": [
    "<div class=\"admonition note\">\n",
    "    <p class=\"admonition-title\">Note</p>\n",
    "    <p>\n",
    "        If two distributions are similar, then their entropies are similar,\n",
    "        implies the KL divergence with respect to two distributions will be\n",
    "        smaller...\n",
    "    </p>\n",
    "</div>"
   ]
  },
  {
   "cell_type": "markdown",
   "metadata": {},
   "source": []
  },
  {
   "cell_type": "markdown",
   "metadata": {},
   "source": [
    "three sample files:\n",
    "\n",
    "- file1.txt:\n",
    "\n",
    "```\n",
    "Cats are small, furry animals that are known for their playful and independent nature.\n",
    "They are one of the most popular pets in the world.\n",
    "Cats have sharp claws and teeth, which they use for hunting.\n",
    "\n",
    "```\n",
    "\n",
    "- file2.txt\n",
    "  \n",
    "```\n",
    "Cats are known for their love of sleeping. \n",
    "They can sleep up to 16 hours a day.\n",
    "Unlike dogs, cats are solitary animals and do not require constant attention\n",
    "```\n",
    "\n",
    "- file3.txt\n",
    "\n",
    "```\n",
    "Cats have a strong territorial instinct. \n",
    "They mark their territory by releasing pheromones.\n",
    "They are also known for their agility and are excellent climbers.\n",
    "```"
   ]
  }
 ],
 "metadata": {
  "kernelspec": {
   "display_name": "venv",
   "language": "python",
   "name": "python3"
  },
  "language_info": {
   "codemirror_mode": {
    "name": "ipython",
    "version": 3
   },
   "file_extension": ".py",
   "mimetype": "text/x-python",
   "name": "python",
   "nbconvert_exporter": "python",
   "pygments_lexer": "ipython3",
   "version": "3.11.4"
  },
  "orig_nbformat": 4
 },
 "nbformat": 4,
 "nbformat_minor": 2
}
