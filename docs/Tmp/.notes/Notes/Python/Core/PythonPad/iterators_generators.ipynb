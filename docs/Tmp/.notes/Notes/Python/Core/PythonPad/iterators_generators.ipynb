{
 "cells": [
  {
   "cell_type": "markdown",
   "metadata": {},
   "source": [
    "# Generators and Iterators in Python\n",
    "\n",
    "- They work on a principle of [lazy evaluation](lazy_evaluation.ipynb)\n",
    "- An iterator can be seen as a pointer to a container, which enables us to iterate over all the elements of this container\n",
    "- An iterator is an abstraction, which enables the programmer to access all the elements of an iterable object (a set, a string, a list etc.) without any deeper knowledge of the data structure of this object.\n",
    "- Generators are a special kind of function, which enable us to implement or generate iterators.\n"
   ]
  },
  {
   "cell_type": "markdown",
   "metadata": {},
   "source": [
    "## Iterators\n",
    "- If we will iterate after the end of the `iterable` has nothing to produce we will get `StopIteration` exception\n",
    "- In the example if we use `next(sizes_iterator)` after `\"Chungus\"` is returned we will get this exception "
   ]
  },
  {
   "cell_type": "markdown",
   "metadata": {},
   "source": [
    "##  Iterator example 1 - lists"
   ]
  },
  {
   "cell_type": "code",
   "execution_count": 1,
   "metadata": {},
   "outputs": [
    {
     "name": "stdout",
     "output_type": "stream",
     "text": [
      "Really Smol\n",
      "Smol\n",
      "Medium\n",
      "Big\n",
      "Chungus\n",
      "Nothing left to iterate over\n"
     ]
    }
   ],
   "source": [
    "\n",
    "\n",
    "sizes = [\n",
    "    \"Really Smol\",\n",
    "    \"Smol\",\n",
    "    \"Medium\",\n",
    "    \"Big\",\n",
    "    \"Chungus\"\n",
    "]\n",
    "\n",
    "sizes_iterator = iter(sizes)\n",
    "\n",
    "while sizes_iterator:\n",
    "    try:\n",
    "        print(next(sizes_iterator))\n",
    "    except StopIteration:\n",
    "        print(\"Nothing left to iterate over\")\n",
    "        break"
   ]
  },
  {
   "cell_type": "markdown",
   "metadata": {},
   "source": [
    "#### Iterator example 2 - dictionaries\n"
   ]
  },
  {
   "cell_type": "code",
   "execution_count": 1,
   "metadata": {},
   "outputs": [
    {
     "name": "stdout",
     "output_type": "stream",
     "text": [
      "France\n",
      "Netherlands\n",
      "Germany\n",
      "Switzerland\n",
      "Austria\n",
      "Nothing left to iterate over\n"
     ]
    }
   ],
   "source": [
    "capitals = { \n",
    "    \"France\":\"Paris\", \n",
    "    \"Netherlands\":\"Amsterdam\", \n",
    "    \"Germany\":\"Berlin\", \n",
    "    \"Switzerland\":\"Bern\", \n",
    "    \"Austria\":\"Vienna\"}\n",
    "\n",
    "capitals_iterator = iter(capitals)\n",
    "\n",
    "while capitals_iterator:\n",
    "    try:\n",
    "        print(next(capitals_iterator))\n",
    "    except StopIteration:\n",
    "        print(\"Nothing left to iterate over\")\n",
    "        break"
   ]
  },
  {
   "cell_type": "markdown",
   "metadata": {},
   "source": [
    "## Building Custom Iterators\n",
    "\n",
    "Needed methods:\n",
    "\n",
    "- `__iter__()`\n",
    "   -  returns the iterator object itself. If required, some initialization can be performed.\n",
    "-  `__next__()` \n",
    "   -  must return the next item in the sequence. \n",
    "   -  On reaching the end, and in subsequent calls, it must raise `StopIteration`."
   ]
  },
  {
   "cell_type": "markdown",
   "metadata": {},
   "source": [
    "###"
   ]
  },
  {
   "cell_type": "markdown",
   "metadata": {},
   "source": [
    "- Example: iterate from $2^0$ to $2^x$ (including), where $x$ is argument for the constructor of the object."
   ]
  },
  {
   "cell_type": "code",
   "execution_count": 16,
   "metadata": {},
   "outputs": [
    {
     "name": "stdout",
     "output_type": "stream",
     "text": [
      "1\n",
      "2\n",
      "4\n",
      "8\n",
      "nothing to iterate\n"
     ]
    }
   ],
   "source": [
    "class PowerTwo:\n",
    "    def __init__(self, x = 0):\n",
    "        self.x = x\n",
    "    \n",
    "    def __iter__(self):\n",
    "        # we start with 2^0\n",
    "        self.n = 0\n",
    "        # print(type(self))\n",
    "        return self\n",
    "    \n",
    "    def __next__(self):\n",
    "        if self.n <= self.x:\n",
    "            result = 2 ** self.n\n",
    "            self.n += 1\n",
    "            return result\n",
    "        else:\n",
    "            raise StopIteration\n",
    "\n",
    "nums = PowerTwo(3)\n",
    "nums_iter = iter(nums)\n",
    "try:\n",
    "    print(next(nums))\n",
    "    print(next(nums))\n",
    "    print(next(nums))\n",
    "    print(next(nums))\n",
    "    print(next(nums))\n",
    "except StopIteration:\n",
    "    print(\"nothing to iterate\")\n"
   ]
  },
  {
   "cell_type": "markdown",
   "metadata": {},
   "source": [
    "- Example 2: iterate over elements of a list (or any iterable object) and if it ends return to beginning (create a cycle)\""
   ]
  },
  {
   "cell_type": "code",
   "execution_count": 2,
   "metadata": {},
   "outputs": [
    {
     "name": "stdout",
     "output_type": "stream",
     "text": [
      "1, 2, 3, 1, 2, 3, 1, 2, 3, 1, "
     ]
    }
   ],
   "source": [
    "class Cycle(object):\n",
    "    def __init__(self, iterable) -> None:\n",
    "        self.iterable = iterable\n",
    "        self.object_iterator = iter(iterable)\n",
    "\n",
    "    def __iter__(self):\n",
    "        return self\n",
    "    \n",
    "    def __next__(self):\n",
    "        while True:\n",
    "            try:\n",
    "                return next(self.object_iterator)\n",
    "            except StopIteration:\n",
    "                self.object_iterator = iter(self.iterable)\n",
    "\n",
    "cycle_list = Cycle([1, 2, 3])\n",
    "\n",
    "for _ in range(10):\n",
    "    print(next(cycle_list), end = \", \")"
   ]
  },
  {
   "cell_type": "markdown",
   "metadata": {},
   "source": [
    "## Generators\n",
    "- In Python, a generator is a function that returns an iterator that produces a sequence of values when iterated over.\n",
    "- A generator is a function which returns a generator object\n",
    "- The values, on which can be iterated, are created by using the `yield` statement.\n",
    "- The execution of the code stops when a yield statement is reached\n",
    "- The value behind the yield will be returned. The execution of the generator is interrupted now. \n",
    "- As soon as \"next\" is called again on the generator object, the generator function will resume execution right after the yield statement in the code, where the last call is made. \n",
    "- The execution will continue in the state in which the generator was left after the last yield.\n",
    "- Local variables still exist, because they are automatically saved between calls. This is a fundamental difference to functions."
   ]
  },
  {
   "cell_type": "markdown",
   "metadata": {},
   "source": [
    "- Example: burger generator:"
   ]
  },
  {
   "cell_type": "code",
   "execution_count": 5,
   "metadata": {},
   "outputs": [
    {
     "name": "stdout",
     "output_type": "stream",
     "text": [
      "Chese Borgir\n",
      "Big Mag\n",
      "Smol Mag\n",
      "Vegan Borgir\n",
      "no more yield\n",
      "Chese Borgir\n"
     ]
    }
   ],
   "source": [
    "def burger_generator():\n",
    "    yield \"Chese Borgir\"\n",
    "    yield \"Big Mag\"\n",
    "    yield \"Smol Mag\"\n",
    "    yield \"Vegan Borgir\"\n",
    "\n",
    "ref_burger_generator = burger_generator()\n",
    "\n",
    "try:\n",
    "    print(next(ref_burger_generator))\n",
    "    print(next(ref_burger_generator))\n",
    "    print(next(ref_burger_generator))\n",
    "    print(next(ref_burger_generator))\n",
    "    print(next(ref_burger_generator))\n",
    "except StopIteration:\n",
    "    print(\"no more yield\")\n",
    "\n",
    "#  There is no reset, but it's possible to create another generator. \n",
    "ref_burger_generator = burger_generator()\n",
    "print(next(ref_burger_generator))\n"
   ]
  },
  {
   "cell_type": "markdown",
   "metadata": {},
   "source": [
    "```mermaid\n",
    "mindmap\n",
    "  root((mindmap))\n",
    "    Origins\n",
    "      Long history\n",
    "      ::icon(fa fa-book)\n",
    "      Popularisation\n",
    "        British popular psychology author Tony Buzan\n",
    "    Research\n",
    "      On effectiveness<br/>and features\n",
    "      On Automatic creation\n",
    "        Uses\n",
    "            Creative techniques\n",
    "            Strategic planning\n",
    "            Argument mapping\n",
    "    Tools\n",
    "      Pen and paper\n",
    "      Mermaid\n",
    "\n",
    "\n",
    "```\n"
   ]
  },
  {
   "cell_type": "markdown",
   "metadata": {},
   "source": [
    "Sources:\n",
    "\n",
    "- <https://python-course.eu/advanced-python/generators-and-iterators.php>\n",
    "- <https://www.programiz.com/python-programming/iterator>\n"
   ]
  }
 ],
 "metadata": {
  "kernelspec": {
   "display_name": "Python 3.11.2 64-bit",
   "language": "python",
   "name": "python3"
  },
  "language_info": {
   "codemirror_mode": {
    "name": "ipython",
    "version": 3
   },
   "file_extension": ".py",
   "mimetype": "text/x-python",
   "name": "python",
   "nbconvert_exporter": "python",
   "pygments_lexer": "ipython3",
   "version": "3.11.2"
  },
  "orig_nbformat": 4,
  "vscode": {
   "interpreter": {
    "hash": "e8161cb82d7b55ccc5b19c5ce3595fd4b239d7c1873be9f0166c26b9f15d08a6"
   }
  }
 },
 "nbformat": 4,
 "nbformat_minor": 2
}
