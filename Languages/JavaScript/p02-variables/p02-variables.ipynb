{
 "cells": [
  {
   "cell_type": "markdown",
   "metadata": {},
   "source": [
    "# Variables\n",
    "\n",
    "JavaScript is a dynamic language with dynamic types. Variables in JavaScript\n",
    "are not directly associated with any particular value type, and any variable\n",
    "can be assigned (and re-assigned) values of all types "
   ]
  },
  {
   "cell_type": "code",
   "execution_count": 1,
   "metadata": {},
   "outputs": [
    {
     "name": "stdout",
     "output_type": "stream",
     "text": [
      "true\n"
     ]
    }
   ],
   "source": [
    "let bucket = 1 // bucket is a number\n",
    "bucket = \"hi\" // bucket is now a string\n",
    "bucket = true // bucket is now a boolean\n",
    "console.log(bucket);"
   ]
  },
  {
   "cell_type": "markdown",
   "metadata": {},
   "source": [
    "## Variable Declaration\n",
    "\n",
    "In JavaScript, variables can be declared using three main keywords: `var`,\n",
    "`let`, and `const`). \n"
   ]
  },
  {
   "cell_type": "markdown",
   "metadata": {},
   "source": [
    "Variables declared by `var` keyword are scoped to the immediate function body\n",
    "(hence the function scope) while let variables are scoped to the immediate\n",
    "enclosing block denoted by { } (hence the block scope). "
   ]
  },
  {
   "cell_type": "code",
   "execution_count": 2,
   "metadata": {},
   "outputs": [
    {
     "name": "stdout",
     "output_type": "stream",
     "text": [
      "Moo Hau\n",
      "Moo\n",
      "ReferenceError: hau is not defined\n",
      "    at evalmachine.<anonymous>:15:17\n",
      "    at Script.runInThisContext (node:vm:136:12)\n",
      "    at Object.runInThisContext (node:vm:316:38)\n",
      "    at run ([eval]:1020:15)\n",
      "    at onRunRequest ([eval]:864:18)\n",
      "    at onMessage ([eval]:828:13)\n",
      "    at process.emit (node:events:518:28)\n",
      "    at emit (node:internal/child_process:951:14)\n",
      "    at process.processTicksAndRejections (node:internal/process/task_queues:83:21)\n",
      "Foo Bar\n"
     ]
    }
   ],
   "source": [
    "function run() {\n",
    "    var foo = \"Foo\";\n",
    "    let bar = \"Bar\";\n",
    "    console.log(foo, bar);\n",
    "}\n",
    "\n",
    "{\n",
    "    var moo = \"Moo\";\n",
    "    let hau = \"Hau\";\n",
    "    console.log(moo, hau);\n",
    "}\n",
    "\n",
    "try {\n",
    "    console.log(moo);\n",
    "    console.log(hau);\n",
    "} catch(e) {\n",
    "    console.log(e); // ReferenceError\n",
    "}\n",
    "run()"
   ]
  },
  {
   "cell_type": "markdown",
   "metadata": {},
   "source": [
    "Function (or global if outside the function) scope of `var` is well shown in\n",
    "the following example: "
   ]
  },
  {
   "cell_type": "code",
   "execution_count": 3,
   "metadata": {},
   "outputs": [
    {
     "name": "stdout",
     "output_type": "stream",
     "text": [
      "My value: 3\n",
      "My value: 3\n",
      "My value: 3\n"
     ]
    }
   ],
   "source": [
    "var funcs = [];\n",
    "// let's create 3 functions\n",
    "for (var i = 0; i < 3; i++) {\n",
    "  // and store them in funcs\n",
    "  funcs[i] = function() {\n",
    "    // each should log its value.\n",
    "    console.log(\"My value: \" + i);\n",
    "  };\n",
    "}\n",
    "for (var j = 0; j < 3; j++) {\n",
    "  // and now let's run each one to see\n",
    "  funcs[j]();\n",
    "}"
   ]
  },
  {
   "cell_type": "markdown",
   "metadata": {},
   "source": [
    "\n",
    "Because of JavaScript's function scoping, all the functions created in the\n",
    "first `for` loop share the same `i` variable. This means that when the\n",
    "functions are called in the second `for` loop, they will all log the final\n",
    "value of `i` (which is 3, because that's the value that caused the first `for`\n",
    "loop to terminate) instead of the value of `i` at the time each function was\n",
    "created."
   ]
  },
  {
   "cell_type": "markdown",
   "metadata": {},
   "source": [
    "And block scope of `let` is shown in the following example: \n"
   ]
  },
  {
   "cell_type": "code",
   "execution_count": 4,
   "metadata": {},
   "outputs": [
    {
     "name": "stdout",
     "output_type": "stream",
     "text": [
      "My value: 0\n",
      "My value: 1\n",
      "My value: 2\n"
     ]
    }
   ],
   "source": [
    "// Initialize an empty array to hold functions\n",
    "let funcs2 = [];\n",
    "\n",
    "for (let i = 0; i < 3; i++) {\n",
    "  funcs2[i] = function() {\n",
    "    console.log(\"My value: \" + i);\n",
    "  };\n",
    "}\n",
    "\n",
    "for (let j = 0; j < 3; j++) {\n",
    "  funcs2[j](); // Output: \"My value: 0\", \"My value: 1\", \"My value: 2\"\n",
    "}\n"
   ]
  },
  {
   "cell_type": "markdown",
   "metadata": {},
   "source": [
    "The `let` keyword creates a new block-scoped variable `i` for each iteration of the\n",
    "`for` loop. \n",
    "`let` creates a unique instance of `i` for each iteration.\n",
    "This means each function in the funcs array has its own copy of i, which\n",
    "remains consistent even after the loop completes.\n"
   ]
  },
  {
   "cell_type": "markdown",
   "metadata": {},
   "source": [
    "`const` declaration creates immutable, block-scoped reference to a value.\n",
    "Although reference is immutable, the value can still be changed.\n",
    "It must be initialized at the time of declaration otherwise it will throw an\n",
    "error.\n",
    "It is not possible to use a lone const declaration as the body of a block\n",
    "(which makes sense, since there's no way to access the variable). \n",
    "\n"
   ]
  },
  {
   "cell_type": "code",
   "execution_count": 5,
   "metadata": {},
   "outputs": [
    {
     "name": "stdout",
     "output_type": "stream",
     "text": [
      "{ name: 'Bob' }\n",
      "{ name: 'Fred' }\n"
     ]
    }
   ],
   "source": [
    "const obj = {name: \"Bob\"}\n",
    "console.log(obj);\n",
    "obj.name = \"Fred\";\n",
    "console.log(obj);\n",
    "\n",
    "// not possible:\n",
    "\n",
    "// obj = {name: \"Anne\"} // Identifier 'obj' has already been declared\n",
    "// const name;         // SyntaxError: Missing initializer in const declaration\n",
    "// if (true) const a = 1 // SyntaxError: Lexical declaration cannot appear in a\n",
    "//                       // single-statement context "
   ]
  },
  {
   "cell_type": "markdown",
   "metadata": {},
   "source": [
    "## Hoisting\n",
    "Hoisting is the process of setting up of memory space for our variables and\n",
    "functions. Before the code starts to execute, the JS engine goes through the code\n",
    "and sets up blocks of memory for functions and variables. The values of\n",
    "variables are not stored (only declarations of variables are hoisted, **not\n",
    "initializations**) but functions are stored entirely along with their\n",
    "definitions. "
   ]
  },
  {
   "cell_type": "markdown",
   "metadata": {},
   "source": [
    "### `var` hoisting"
   ]
  },
  {
   "cell_type": "code",
   "execution_count": 6,
   "metadata": {},
   "outputs": [
    {
     "name": "stdout",
     "output_type": "stream",
     "text": [
      "undefined\n",
      "Hello, world!\n"
     ]
    }
   ],
   "source": [
    "console.log(myVar); // Output: undefined\n",
    "var myVar = 5;\n",
    "\n",
    "myFunc(); // Output: \"Hello, world!\"\n",
    "function myFunc() {\n",
    "  console.log(\"Hello, world!\");\n",
    "}"
   ]
  },
  {
   "cell_type": "markdown",
   "metadata": {},
   "source": [
    "\n",
    "\n",
    "In this example, engine doesn't assign any value to the variables so it sets of\n",
    "undefined by default to `myVar` - only the\n",
    "declaration is hoisted (`var myVar`) and not the initialization (`myVar = 5`).\n",
    "The function `myFunc`, on the other hand, can be called before it's declared\n",
    "because the entire function is hoisted."
   ]
  },
  {
   "cell_type": "markdown",
   "metadata": {},
   "source": [
    "### `let` and `const` hoisting\n",
    "\n",
    "Variables declared with `let` and `const` are hoisted to the top of\n",
    "their block scope, but they are not initialized. Accessing them before the\n",
    "declaration results in a `ReferenceError`. This state between the beginning of\n",
    "the block and the variable declaration is called the \"temporal dead zone\"\n",
    "(TDZ)."
   ]
  },
  {
   "cell_type": "code",
   "execution_count": 7,
   "metadata": {},
   "outputs": [
    {
     "ename": "ReferenceError",
     "evalue": "Cannot access 'a_1' before initialization",
     "output_type": "error",
     "traceback": [
      "evalmachine.<anonymous>:2",
      "console.log(a_1);",
      "            ^",
      "",
      "ReferenceError: Cannot access 'a_1' before initialization",
      "    at evalmachine.<anonymous>:2:13",
      "    at Script.runInThisContext (node:vm:136:12)",
      "    at Object.runInThisContext (node:vm:316:38)",
      "    at run ([eval]:1020:15)",
      "    at onRunRequest ([eval]:864:18)",
      "    at onMessage ([eval]:828:13)",
      "    at process.emit (node:events:518:28)",
      "    at emit (node:internal/child_process:951:14)",
      "    at process.processTicksAndRejections (node:internal/process/task_queues:83:21)"
     ]
    }
   ],
   "source": [
    "\n",
    "console.log(a_1);\n",
    "// Reference Error\n",
    "\n",
    "let a_1 = 5;"
   ]
  },
  {
   "cell_type": "markdown",
   "metadata": {},
   "source": [
    "### Combined hoisting example with `var` and `let`\n",
    "\n",
    "Variables declared with var keyword are hoisted and initialized which means\n",
    "they are accessible in their enclosing scope even before they are declared,\n",
    "however their value is undefined before the declaration statement is reached:"
   ]
  },
  {
   "cell_type": "code",
   "execution_count": null,
   "metadata": {},
   "outputs": [],
   "source": [
    "function checkVarHoisting() {\n",
    "    console.log(foo); // undefinded\n",
    "    var foo = \"Foo\"\n",
    "    console.log(foo); // Foo\n",
    "}\n",
    "checkVarHoisting();"
   ]
  },
  {
   "cell_type": "markdown",
   "metadata": {},
   "source": [
    "`let` variables are hoisted but not initialized until their definition is evaluated. Accessing them before the initialization results in a ReferenceError. The variable is said to be in the temporal dead zone from the start of the block until the declaration statement is processed."
   ]
  },
  {
   "cell_type": "code",
   "execution_count": null,
   "metadata": {},
   "outputs": [],
   "source": [
    "function checkLetHoisting() {\n",
    "    console.log(bar); // ReferenceError\n",
    "    let bar = \"Bar\";\n",
    "    console.log(bar); // Bar\n",
    "}\n",
    "checkLetHoisting();"
   ]
  },
  {
   "cell_type": "markdown",
   "metadata": {},
   "source": [
    "### Global Object Property of `var`, `let` and `const`\n",
    "\n",
    "In JavaScript, variables declared with `var` are added to the [global object](/Languages/JavaScript/Misc/global-object/)\n",
    "unlike `let` and `const`"
   ]
  },
  {
   "cell_type": "code",
   "execution_count": 1,
   "metadata": {},
   "outputs": [
    {
     "name": "stdout",
     "output_type": "stream",
     "text": [
      "Foo\n",
      "undefined\n",
      "undefined\n"
     ]
    }
   ],
   "source": [
    "var foo_1 = \"Foo\"; // globally scoped and part of the global object\n",
    "let bar_1 = \"Bar\"; // globally scoped but NOT a part of the global object\n",
    "let baz_1 = \"Baz\" // globally scoped but NOT a part of the global object\n",
    "\n",
    "\n",
    "console.log(globalThis.foo_1) // Foo\n",
    "console.log(globalThis.bar_1) // undefined\n",
    "console.log(globalThis.baz_1) "
   ]
  },
  {
   "cell_type": "markdown",
   "metadata": {},
   "source": [
    "### Redeclaration of `var` and `let`\n",
    "\n",
    "In strict mode, `var` allows to re-declare the same variable in the same scope\n",
    "whule `let` raises `SyntaxError`"
   ]
  },
  {
   "cell_type": "code",
   "execution_count": 1,
   "metadata": {},
   "outputs": [
    {
     "name": "stdout",
     "output_type": "stream",
     "text": [
      "foo3\n"
     ]
    }
   ],
   "source": [
    "'use strict';\n",
    "\n",
    "var foo_2 = \"foo2\";\n",
    "var foo_2 = \"foo3\"; // no problem\n",
    "console.log(foo_2)\n",
    "\n",
    "let bar_2 = \"bar2\";\n",
    "// SyntaxError: Identifier 'bar_2' has already been declared\n",
    "// let bar_2 = \"bar3\"; \n"
   ]
  },
  {
   "cell_type": "markdown",
   "metadata": {},
   "source": [
    "---\n",
    "Sources:\n",
    "\n",
    "- <https://stackoverflow.com/questions/762011/what-is-the-difference-between-let-and-var>\n",
    "- <https://dev.to/godcrampy/the-secret-of-hoisting-in-javascript-egi>"
   ]
  }
 ],
 "metadata": {
  "kernelspec": {
   "display_name": "JavaScript (Node.js)",
   "language": "javascript",
   "name": "javascript"
  },
  "language_info": {
   "file_extension": ".js",
   "mimetype": "application/javascript",
   "name": "javascript",
   "version": "20.12.0"
  }
 },
 "nbformat": 4,
 "nbformat_minor": 2
}
