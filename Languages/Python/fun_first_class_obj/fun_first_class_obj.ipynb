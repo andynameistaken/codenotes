{
 "cells": [
  {
   "cell_type": "markdown",
   "metadata": {},
   "source": [
    "# Functions are First Class Objects\n",
    "\n",
    "In Python, functions behave like any other object, such as an int or a list.\n",
    "That means that you can use functions as arguments to other functions, store\n",
    "functions as dictionary values, or return a function from another function.\n",
    "This leads to many powerful ways to use functions. "
   ]
  },
  {
   "cell_type": "markdown",
   "metadata": {},
   "source": [
    "## Functions are objects\n",
    "\n",
    "All data in a Python program is represented by objects or relations between\n",
    "objects. Things like strings, lists, modules, and functions are all objects.\n",
    "\n",
    "There’s nothing particularly special about functions in Python.\n",
    "For example you can assign a function to a variable, just like you can with a string or a list:"
   ]
  },
  {
   "cell_type": "code",
   "execution_count": 1,
   "metadata": {},
   "outputs": [
    {
     "name": "stdout",
     "output_type": "stream",
     "text": [
      "WOOF!\n"
     ]
    }
   ],
   "source": [
    "def yell(text):\n",
    "    return text.upper() + '!'\n",
    "# Because the yell function is an object in Python you can assign it to another\n",
    "# variable, just like any other object:\n",
    "\n",
    "bark = yell\n",
    "print(bark('woof'))"
   ]
  },
  {
   "cell_type": "markdown",
   "metadata": {},
   "source": [
    "Function objects and their names are two separate concerns, name is just a\n",
    "reference to the function object: "
   ]
  },
  {
   "cell_type": "code",
   "execution_count": 2,
   "metadata": {},
   "outputs": [
    {
     "name": "stdout",
     "output_type": "stream",
     "text": [
      "name 'yell' is not defined\n",
      "HEY!\n"
     ]
    }
   ],
   "source": [
    "del yell\n",
    "try:\n",
    "    print(yell('hello?'))\n",
    "except NameError as e:\n",
    "    print(e)\n",
    "print(bark('hey'))"
   ]
  },
  {
   "cell_type": "markdown",
   "metadata": {},
   "source": [
    "Python attaches a string identifier to every function at creation time for\n",
    "debugging purposes. You can access this internal identifier with the `__name__`\n",
    "attribute: "
   ]
  },
  {
   "cell_type": "code",
   "execution_count": 3,
   "metadata": {},
   "outputs": [
    {
     "name": "stdout",
     "output_type": "stream",
     "text": [
      "yell\n"
     ]
    }
   ],
   "source": [
    "print(bark.__name__)"
   ]
  },
  {
   "cell_type": "markdown",
   "metadata": {},
   "source": [
    "## Functions can be stored in data structures\n",
    "\n",
    "As functions are objects, you can store them in data structures such as lists:"
   ]
  },
  {
   "cell_type": "code",
   "execution_count": 4,
   "metadata": {},
   "outputs": [
    {
     "name": "stdout",
     "output_type": "stream",
     "text": [
      "HEY THERE!\n",
      "hey there\n",
      "Hey there\n",
      "HELLO!\n",
      "hello\n",
      "Hello\n"
     ]
    }
   ],
   "source": [
    "functions = [bark, str.lower, str.capitalize]\n",
    "for fun in functions:\n",
    "    print(fun('hey there'))\n",
    "\n",
    "# using index to call the functions\n",
    "for i in range(3):\n",
    "    print(functions[i](\"hello\"))"
   ]
  },
  {
   "cell_type": "markdown",
   "metadata": {},
   "source": [
    "##"
   ]
  },
  {
   "cell_type": "markdown",
   "metadata": {},
   "source": [
    "## Functions can be passed as arguments to other functions"
   ]
  },
  {
   "cell_type": "code",
   "execution_count": 9,
   "metadata": {},
   "outputs": [
    {
     "name": "stdout",
     "output_type": "stream",
     "text": [
      "I AM PASSED AS AN ARGUMENT!\n"
     ]
    }
   ],
   "source": [
    "def greet(func):\n",
    "    greeting = func(\"I am passed as an argument\") \n",
    "    print(greeting)\n",
    "\n",
    "greet(bark)"
   ]
  },
  {
   "cell_type": "markdown",
   "metadata": {},
   "source": [
    "\n",
    "\n",
    "Functions that can accept other functions as arguments are also called\n",
    "**higher-order functions**. They are a necessity for the functional programming\n",
    "style.\n",
    "\n",
    "The classical example for higher-order functions in Python is the built-in map\n",
    "function. It takes a function and an iterable and calls the function on each\n",
    "element in the iterable, yielding the results as it goes along "
   ]
  },
  {
   "cell_type": "code",
   "execution_count": 11,
   "metadata": {},
   "outputs": [
    {
     "name": "stdout",
     "output_type": "stream",
     "text": [
      "['THIS!', 'IS!', 'AN!', 'EXAMPLE!']\n"
     ]
    }
   ],
   "source": [
    "print(list(map(bark, ['this', 'is', 'an', 'example'])))"
   ]
  },
  {
   "cell_type": "markdown",
   "metadata": {},
   "source": [
    "## Functions Can Be Nested\n",
    "\n",
    "Python allows functions to be defined inside other functions. These are often\n",
    "called **nested functions** or **inner functions**:"
   ]
  },
  {
   "cell_type": "markdown",
   "metadata": {},
   "source": [
    "### Uses of Inner Functions"
   ]
  },
  {
   "cell_type": "markdown",
   "metadata": {},
   "source": [
    "#### Encapsulation\n",
    "\n",
    "Nested functions can access and modify variables from the enclosing function,\n",
    "but those variables are not accessible from outside."
   ]
  },
  {
   "cell_type": "code",
   "execution_count": 2,
   "metadata": {},
   "outputs": [
    {
     "name": "stdout",
     "output_type": "stream",
     "text": [
      "The secret is: I'm hidden!\n",
      "name 'secret' is not defined\n"
     ]
    }
   ],
   "source": [
    "def outer_function():\n",
    "    secret = \"I'm hidden!\"\n",
    "\n",
    "    def inner_function():\n",
    "        return f\"The secret is: {secret}\"\n",
    "\n",
    "    return inner_function()\n",
    "\n",
    "print(outer_function()) \n",
    "try:\n",
    "    print(secret)\n",
    "except NameError as e:\n",
    "    print(e)``"
   ]
  },
  {
   "cell_type": "markdown",
   "metadata": {},
   "source": [
    "#### Keeping code clean\n",
    "\n",
    "Defining a function within another when it's only needed in that context keeps\n",
    "the global scope cleaner and the code more organized."
   ]
  },
  {
   "cell_type": "code",
   "execution_count": 3,
   "metadata": {},
   "outputs": [
    {
     "name": "stdout",
     "output_type": "stream",
     "text": [
      "(15, 50)\n"
     ]
    }
   ],
   "source": [
    "def calculate(x, y):\n",
    "    def add(a, b):\n",
    "        return a + b\n",
    "    def multiply(a, b):\n",
    "        return a * b\n",
    "    return add(x, y), multiply(x, y)\n",
    "\n",
    "print(calculate(5, 10))"
   ]
  },
  {
   "cell_type": "markdown",
   "metadata": {},
   "source": []
  },
  {
   "cell_type": "code",
   "execution_count": 12,
   "metadata": {},
   "outputs": [
    {
     "name": "stdout",
     "output_type": "stream",
     "text": [
      "hello world...\n"
     ]
    }
   ],
   "source": [
    "def speak(text):\n",
    "    def whisper(arg): \n",
    "        return(arg.lower() + \"...\")\n",
    "    return whisper(text)\n",
    "\n",
    "print(speak('Hello World'))"
   ]
  },
  {
   "cell_type": "markdown",
   "metadata": {},
   "source": [
    "`whisper` function doesn't exist outside of `speak`, because it is out of\n",
    "scope.\n",
    "However we can return function if we need to use it outside:"
   ]
  },
  {
   "cell_type": "code",
   "execution_count": 3,
   "metadata": {},
   "outputs": [
    {
     "name": "stdout",
     "output_type": "stream",
     "text": [
      "hello...\n",
      "HELLO!\n"
     ]
    },
    {
     "data": {
      "text/plain": [
       "'HI!'"
      ]
     },
     "execution_count": 3,
     "metadata": {},
     "output_type": "execute_result"
    }
   ],
   "source": [
    "from typing import Callable\n",
    "\n",
    "# function will return another function that accepts a string (str) as input\n",
    "# and returns a string (str).\n",
    "def get_speak_func(volume: float) -> Callable[[str], str]:\n",
    "    def yell(text: str) -> str:\n",
    "        return text.upper() + \"!\"\n",
    "    \n",
    "    def whisper(text: str) -> str:\n",
    "        return text.lower() + \"...\"\n",
    "    \n",
    "    if volume < 0.5:\n",
    "        return whisper\n",
    "    else:\n",
    "        return yell\n",
    "\n",
    "whisper = get_speak_func(0.3)\n",
    "print(whisper(\"Hello\"))  # Output: hello...\n",
    "\n",
    "yell = get_speak_func(0.7)\n",
    "print(yell(\"Hello\"))  # Output: HELLO!\n",
    "yell(\"hi\")\n"
   ]
  },
  {
   "cell_type": "markdown",
   "metadata": {},
   "source": [
    "Now whe have `whisper` variable that refers to a function object of `whisper`\n",
    "and analogically `yell` variable refers to a function object of `yell"
   ]
  }
 ],
 "metadata": {
  "kernelspec": {
   "display_name": ".venv",
   "language": "python",
   "name": "python3"
  },
  "language_info": {
   "codemirror_mode": {
    "name": "ipython",
    "version": 3
   },
   "file_extension": ".py",
   "mimetype": "text/x-python",
   "name": "python",
   "nbconvert_exporter": "python",
   "pygments_lexer": "ipython3",
   "version": "3.12.3"
  }
 },
 "nbformat": 4,
 "nbformat_minor": 2
}
