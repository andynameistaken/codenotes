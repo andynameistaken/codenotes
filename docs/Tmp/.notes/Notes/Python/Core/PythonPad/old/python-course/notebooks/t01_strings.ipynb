{
 "cells": [
  {
   "cell_type": "markdown",
   "metadata": {
    "pycharm": {
     "name": "#%% md\n"
    }
   },
   "source": [
    "# Strings\n",
    "\n",
    "Strings are created by putting a sequence of characters in quotes.\n",
    "Strings can be surrounded with:\n",
    "\n",
    "- single quotes: `'python'`\n",
    "- double quotes: `\"python\"`\n",
    "- triple single/double quotes: `'''python'''` or `\"\"\"python\"\"\"`\n",
    "\n",
    "## Examples:\n",
    "\n"
   ]
  },
  {
   "cell_type": "code",
   "execution_count": 1,
   "metadata": {
    "pycharm": {
     "name": "#%%\n"
    }
   },
   "outputs": [
    {
     "name": "stdout",
     "output_type": "stream",
     "text": [
      "python\n",
      "is\n",
      "really\n",
      "cool\n"
     ]
    }
   ],
   "source": [
    "txt_1 = \"python\"\n",
    "txt_2 = 'is'\n",
    "txt_3 = \"\"\"really\"\"\"\n",
    "txt_4 = '''cool'''\n",
    "\n",
    "print(txt_1)\n",
    "print(txt_2)\n",
    "print(txt_3)\n",
    "print(txt_4)"
   ]
  },
  {
   "cell_type": "markdown",
   "metadata": {
    "pycharm": {
     "name": "#%% md\n"
    }
   },
   "source": [
    "- Python does not allow mixed syntax for strings, so something like this won't work:\n",
    "    ```python\n",
    "    txt_5 = \"no go'\n",
    "    ```\n",
    "- Strings are immutable - once defined they cannot be changed\n"
   ]
  }
 ],
 "metadata": {
  "kernelspec": {
   "display_name": "Python 3.9.13 64-bit",
   "language": "python",
   "name": "python3"
  },
  "language_info": {
   "codemirror_mode": {
    "name": "ipython",
    "version": 3
   },
   "file_extension": ".py",
   "mimetype": "text/x-python",
   "name": "python",
   "nbconvert_exporter": "python",
   "pygments_lexer": "ipython3",
   "version": "3.9.13"
  },
  "orig_nbformat": 4,
  "vscode": {
   "interpreter": {
    "hash": "ac2eaa0ea0ebeafcc7822e65e46aa9d4f966f30b695406963e145ea4a91cd4fc"
   }
  }
 },
 "nbformat": 4,
 "nbformat_minor": 2
}