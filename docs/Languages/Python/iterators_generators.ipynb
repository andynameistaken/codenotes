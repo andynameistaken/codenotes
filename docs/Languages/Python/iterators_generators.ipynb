{
 "cells": [
  {
   "cell_type": "markdown",
   "metadata": {},
   "source": [
    "- Iterators are objects that can be iterated over like we do in a for loop.\n",
    "- We can also say that an iterator is an object, which returns data, one\n",
    "  element at a time\n",
    "  -They work on a principle, which is known in computer science as lazy\n",
    "  evaluation. Lazy evaluation is an evaluation strategy which delays the\n",
    "  evaluation of an expression until its value is needed. That is, they do not\n",
    "  do any work until we explicitly ask for their next item\n",
    "- Due to the laziness of Python iterators, they are a great way to deal with\n",
    "    infinity, i.e. `iterables` which can iterate forever.\n",
    "\n",
    "- An iterable object is an object that implements `__iter__`, which is\n",
    "    expected to return an iterator object. \n",
    "- An iterator is an object that implements `__next__`, which is expected to\n",
    "  return the next element of the iterable object that returned it, and raise a\n",
    "  `StopIteration` exception when no more elements are available.\n",
    "- An iterator can be created from an iterable by using the function `iter`. To\n",
    "  make this possible the class of an object needs either a method `__iter__`,\n",
    "  which returns an iterator, or a `__getitem__` method with sequential indexes\n",
    "  starting with 0. \n",
    "\n",
    "\n",
    "      "
   ]
  },
  {
   "cell_type": "code",
   "outputs": [
    {
     "name": "stdout",
     "output_type": "stream",
     "text": [
      "location of iterator object: <list_iterator object at 0x1111d0d90>\n",
      "Coruscant\n",
      "Tatooine\n",
      "Naboo\n",
      "Bespin\n",
      "no more things to iterate\n"
     ]
    }
   ],
   "source": [
    "# Iterator Usage Example\n",
    "\n",
    "# List of cities in Star Wars\n",
    "cities = [\"Coruscant\", \"Tatooine\", \"Naboo\", \"Bespin\"]\n",
    "\n",
    "# Get an Iterator Object\n",
    "iterator_obj = iter(cities)\n",
    "\n",
    "print( 'location of iterator object:', iterator_obj)\n",
    "\n",
    "print(next(iterator_obj))\n",
    "print(next(iterator_obj))\n",
    "print(next(iterator_obj))\n",
    "print(next(iterator_obj))\n",
    "\n",
    "try: \n",
    "    print(next(iterator_obj))\n",
    "except StopIteration:\n",
    "    print(\"no more things to iterate\")\n",
    "    \n"
   ],
   "metadata": {
    "collapsed": false
   },
   "execution_count": 1
  },
  {
   "cell_type": "markdown",
   "source": [
    "## Creating an iterator in Python"
   ],
   "metadata": {
    "collapsed": false
   }
  },
  {
   "cell_type": "code",
   "execution_count": 3,
   "metadata": {},
   "outputs": [
    {
     "name": "stdout",
     "output_type": "stream",
     "text": [
      "16\n",
      "4\n",
      "2\n"
     ]
    },
    {
     "data": {
      "text/plain": [
       "[3, 2, 1]"
      ]
     },
     "execution_count": 3,
     "metadata": {},
     "output_type": "execute_result"
    }
   ],
   "source": [
    "class Reverse:\n",
    "    \"\"\"\n",
    "    Creates Iterator for looping sequences backwards\n",
    "    \"\"\"\n",
    "    def __init__(self, data) -> None:\n",
    "        # it has to have items and length\n",
    "        if not hasattr(data, '__getitem__') or not hasattr(data, '__len__'):\n",
    "            raise TypeError(\"Reverse requires type with __getitem__ and __len__ methods\")\n",
    "        self.data = data\n",
    "        self.index = len(data)\n",
    "    def __iter__(self):\n",
    "        # More complex iterables may very well return separate iterator\n",
    "        # objects. \n",
    "        return self \n",
    "    def __next__(self):\n",
    "        if self.index == 0:\n",
    "            raise StopIteration\n",
    "        self.index = self.index - 1\n",
    "        return self.data[self.index]\n",
    "lst = [2, 4, 16]\n",
    "lst_backwards = Reverse(lst)\n",
    "for el in lst_backwards:\n",
    "    print(el) \n",
    "print(list(Reverse([1,2,3]))) # used for reverse list creation"
   ]
  },
  {
   "cell_type": "code",
   "execution_count": 9,
   "metadata": {},
   "outputs": [
    {
     "name": "stdout",
     "output_type": "stream",
     "text": [
      "'int' object is not iterable\n",
      "False\n",
      "True\n",
      "True\n"
     ]
    }
   ],
   "source": [
    "# Check if the object is iterable\n",
    "def iterable(object):\n",
    "    try:\n",
    "        iter(object)\n",
    "        return True\n",
    "    except Exception as e:\n",
    "        print(e)\n",
    "        return False\n",
    "\n",
    "print(iterable(3))\n",
    "print(iterable([3]))\n",
    "print(iterable(\"abc\"))\n"
   ]
  },
  {
   "cell_type": "code",
   "execution_count": 10,
   "metadata": {},
   "outputs": [
    {
     "name": "stdout",
     "output_type": "stream",
     "text": [
      "Redwood\n",
      "Greenhorn\n",
      "Bluerock\n"
     ]
    }
   ],
   "source": [
    "# Another Iterator usage\n",
    "\n",
    "cities = [\"Redwood\", \"Greenhorn\", \"Bluerock\"]\n",
    "for city in cities:\n",
    "    print(city)\n",
    "# iter() applied -> iter(object) returned -> for loop triggers next"
   ]
  },
  {
   "cell_type": "code",
   "execution_count": 2,
   "metadata": {
    "notebookRunGroups": {
     "groupValue": "2"
    }
   },
   "outputs": [
    {
     "name": "stdout",
     "output_type": "stream",
     "text": [
      "Tatooine\n",
      "Endor\n",
      "Utapau\n",
      "oh no\n"
     ]
    },
    {
     "ename": "StopIteration",
     "evalue": "",
     "output_type": "error",
     "traceback": [
      "\u001B[0;31m---------------------------------------------------------------------------\u001B[0m",
      "\u001B[0;31mStopIteration\u001B[0m                             Traceback (most recent call last)",
      "Cell \u001B[0;32mIn[2], line 13\u001B[0m\n\u001B[1;32m     11\u001B[0m         \u001B[38;5;28mprint\u001B[39m(\u001B[38;5;124m\"\u001B[39m\u001B[38;5;124moh no\u001B[39m\u001B[38;5;124m\"\u001B[39m)\n\u001B[1;32m     12\u001B[0m         \u001B[38;5;28;01mbreak\u001B[39;00m\n\u001B[0;32m---> 13\u001B[0m \u001B[38;5;28mprint\u001B[39m(\u001B[38;5;28;43mnext\u001B[39;49m\u001B[43m(\u001B[49m\u001B[43mplanets_iterator\u001B[49m\u001B[43m)\u001B[49m)\n",
      "\u001B[0;31mStopIteration\u001B[0m: "
     ]
    }
   ],
   "source": [
    "# Example of break\n",
    "\n",
    "planets = [\"Tatooine\", \"Endor\", \"Utapau\"]\n",
    "planets_iterator = iter(planets)\n",
    "\n",
    "while planets_iterator:\n",
    "    try:\n",
    "        planet = next(planets_iterator)\n",
    "        print(planet)\n",
    "    except StopIteration:\n",
    "        print(\"oh no\")\n",
    "        break\n",
    "print(next(planets_iterator))\n"
   ]
  },
  {
   "cell_type": "markdown",
   "metadata": {},
   "source": [
    "## Implementing an Iterator as a Class\n",
    "One way to create iterators in Python is defining a class which implements the\n",
    "methods `__init__` and `__next__` "
   ]
  },
  {
   "cell_type": "code",
   "execution_count": null,
   "metadata": {
    "is_executing": true
   },
   "outputs": [],
   "source": [
    "class Cycle(object):\n",
    "    \n",
    "    def __init__(self, iterable):\n",
    "        self.iterable = iterable\n",
    "        self.iterator_object = iter(iterable)\n",
    "        \n",
    "    def __iter__(self):\n",
    "        return self\n",
    "\n",
    "    def __next__(self):\n",
    "        while True:\n",
    "            try:\n",
    "                next_object = next(self.iterator_object)\n",
    "                return next_object\n",
    "            except StopIteration:\n",
    "                self.iterator_object = iter(self.iterable)\n",
    "x = Cycle([2,4,6])\n",
    "\n",
    "for i in range(10):\n",
    "    print(next(x), end=', ')"
   ]
  },
  {
   "cell_type": "markdown",
   "metadata": {},
   "source": [
    "## Generators\n",
    "\n",
    "- A generator is called like a function. \n",
    "- Its return value is an iterator, i.e. a generator object. \n",
    "- The code of the generator will not be executed at this stage.\n",
    "- The iterator can be used by calling the next method. The first time the \n",
    "execution starts like a function, i.e. the first line of code within the body \n",
    "of the iterator. \n",
    "- The code is executed until a yield statement is reached.\n",
    "- yield returns the value of the expression, which is following the keyword\n",
    "yield. \n",
    "- This is like a function, but Python keeps track of the position of this yield \n",
    "and the state of the local variables is stored for the next call. \n",
    "- At the next call, the execution continues with the statement following the \n",
    "yield statement and the variables have the same values as they had in the \n",
    "previous call.\n",
    "- The iterator is finished, if the generator body is completely worked through or\n",
    "if the program flow encounters a return statement without a value. "
   ]
  },
  {
   "cell_type": "code",
   "execution_count": 5,
   "metadata": {},
   "outputs": [
    {
     "name": "stdout",
     "output_type": "stream",
     "text": [
      "Honda\n",
      "Fiat\n",
      "BMW\n"
     ]
    }
   ],
   "source": [
    "def car_generator():\n",
    "    yield \"Honda\"\n",
    "    yield \"Fiat\"\n",
    "    yield \"BMW\"\n",
    "\n",
    "generator_object = car_generator()\n",
    "print(next(generator_object))\n",
    "print(next(generator_object))\n",
    "print(next(generator_object))"
   ]
  },
  {
   "cell_type": "code",
   "execution_count": 8,
   "metadata": {},
   "outputs": [
    {
     "name": "stdout",
     "output_type": "stream",
     "text": [
      "0, 1, 2, 3, 4, 2.20\n",
      "2.40\n",
      "2.60\n",
      "2.80\n",
      "3.00\n",
      "3.20\n",
      "3.40\n",
      "3.60\n",
      "3.80\n",
      "4.00\n"
     ]
    }
   ],
   "source": [
    "# The generator count creates an iterator which creates a sequence of values by\n",
    "# counting from the start value 'firstval' and using 'step' as the increment\n",
    "# for counting\n",
    "\n",
    "def count(firstval = 0, step = 1):\n",
    "    x = firstval\n",
    "    while True:\n",
    "        yield x\n",
    "        x += step\n",
    "\n",
    "counter = count()\n",
    "for i in range(5):\n",
    "    print(next(counter), end=', ')\n",
    "counter = count(2.2, 0.2)\n",
    "\n",
    "for i in range(10):\n",
    "    print(f\"{next(counter):.2f}\")"
   ]
  },
  {
   "cell_type": "code",
   "execution_count": 1,
   "metadata": {
    "is_executing": true
   },
   "outputs": [
    {
     "name": "stdout",
     "output_type": "stream",
     "text": [
      "1, 1, 2, 3, 5, 8, "
     ]
    }
   ],
   "source": [
    "def fibonacci_generator(limit):\n",
    "    \"\"\"\n",
    "    Generator of Fibbonacci Numbers\n",
    "    \"\"\"\n",
    "    # 0 1 1 2 3 5\n",
    "    val = 1\n",
    "    prev_val = 0\n",
    "    counter = 0\n",
    "    \n",
    "    while True:\n",
    "        if counter > limit:\n",
    "            return\n",
    "        yield val\n",
    "        val, prev_val = val + prev_val, val\n",
    "        counter += 1\n",
    "        \n",
    "fibgen_obj = fibonacci_generator(5)\n",
    "\n",
    "for number in fibgen_obj:\n",
    "    print(number, end=', ')\n",
    "    "
   ]
  },
  {
   "cell_type": "markdown",
   "metadata": {
    "collapsed": false
   },
   "source": [
    "## Using a 'return' in a Generator\n",
    "- A return statement inside a generator is equivalent to raise StopIteration()\n"
   ]
  },
  {
   "cell_type": "code",
   "execution_count": 6,
   "metadata": {},
   "outputs": [
    {
     "name": "stdout",
     "output_type": "stream",
     "text": [
      "1\n"
     ]
    },
    {
     "ename": "StopIteration",
     "evalue": "555",
     "output_type": "error",
     "traceback": [
      "\u001B[0;31m---------------------------------------------------------------------------\u001B[0m",
      "\u001B[0;31mStopIteration\u001B[0m                             Traceback (most recent call last)",
      "Cell \u001B[0;32mIn[6], line 9\u001B[0m\n\u001B[1;32m      6\u001B[0m gen_obj \u001B[38;5;241m=\u001B[39m gen()\n\u001B[1;32m      8\u001B[0m \u001B[38;5;28mprint\u001B[39m(\u001B[38;5;28mnext\u001B[39m(gen_obj))\n\u001B[0;32m----> 9\u001B[0m \u001B[38;5;28mprint\u001B[39m(\u001B[38;5;28;43mnext\u001B[39;49m\u001B[43m(\u001B[49m\u001B[43mgen_obj\u001B[49m\u001B[43m)\u001B[49m)\n\u001B[1;32m     10\u001B[0m \u001B[38;5;28mprint\u001B[39m(\u001B[38;5;28mnext\u001B[39m(gen_obj))\n\u001B[1;32m     12\u001B[0m \u001B[38;5;28;01mdef\u001B[39;00m \u001B[38;5;21mgen2\u001B[39m():\n",
      "\u001B[0;31mStopIteration\u001B[0m: 555"
     ]
    }
   ],
   "source": [
    "def gen():\n",
    "    yield 1\n",
    "    return 555\n",
    "    yield 2\n",
    "\n",
    "gen_obj = gen()\n",
    "\n",
    "print(next(gen_obj))\n",
    "print(next(gen_obj))\n",
    "print(next(gen_obj))"
   ]
  },
  {
   "cell_type": "code",
   "execution_count": 7,
   "metadata": {},
   "outputs": [
    {
     "ename": "StopIteration",
     "evalue": "",
     "output_type": "error",
     "traceback": [
      "\u001B[0;31m---------------------------------------------------------------------------\u001B[0m",
      "\u001B[0;31mStopIteration\u001B[0m                             Traceback (most recent call last)",
      "Cell \u001B[0;32mIn[7], line 6\u001B[0m\n\u001B[1;32m      3\u001B[0m     \u001B[38;5;28;01mraise\u001B[39;00m \u001B[38;5;167;01mStopIteration\u001B[39;00m(\u001B[38;5;241m777\u001B[39m)\n\u001B[1;32m      4\u001B[0m     \u001B[38;5;28;01myield\u001B[39;00m \u001B[38;5;241m6\u001B[39m\n\u001B[0;32m----> 6\u001B[0m \u001B[38;5;28mprint\u001B[39m(\u001B[38;5;28;43mnext\u001B[39;49m\u001B[43m(\u001B[49m\u001B[43mgen_obj\u001B[49m\u001B[43m)\u001B[49m)\n\u001B[1;32m      7\u001B[0m \u001B[38;5;28mprint\u001B[39m(\u001B[38;5;28mnext\u001B[39m(gen_obj))\n\u001B[1;32m      8\u001B[0m \u001B[38;5;28mprint\u001B[39m(\u001B[38;5;28mnext\u001B[39m(gen_obj))\n",
      "\u001B[0;31mStopIteration\u001B[0m: "
     ]
    }
   ],
   "source": [
    "def gen2():\n",
    "    yield 4\n",
    "    raise StopIteration(777)\n",
    "    yield 6\n",
    "    \n",
    "print(next(gen_obj))\n",
    "print(next(gen_obj))\n",
    "print(next(gen_obj))"
   ]
  },
  {
   "cell_type": "markdown",
   "metadata": {},
   "source": [
    "## send Method \n",
    "\n",
    "- Generators can not only send objects but also receive objects. \n",
    "- Sending a message, i.e. an object, into the generator can be achieved by\n",
    "  applying the send method to the generator object. \n",
    "- send both sends a value to the generator and returns the value yielded by the\n",
    "  generator. "
   ]
  },
  {
   "cell_type": "code",
   "execution_count": 9,
   "metadata": {},
   "outputs": [
    {
     "name": "stdout",
     "output_type": "stream",
     "text": [
      "send_recieve started running\n",
      "foo\n",
      "send_recieve recieved message: message in the bottle\n",
      "sr_object returned: foo\n"
     ]
    }
   ],
   "source": [
    "def send_recieve():\n",
    "    print(\"send_recieve started running\")\n",
    "    while True:\n",
    "        msg = yield \"foo\"\n",
    "        print(\"send_recieve recieved message:\", msg)\n",
    "        \n",
    "sr_object = send_recieve()\n",
    "print(next(sr_object))\n",
    "\n",
    "return_val = sr_object.send(\"message in the bottle\")\n",
    "print(\"sr_object returned:\", return_val)"
   ]
  },
  {
   "cell_type": "markdown",
   "metadata": {},
   "source": [
    "- We had to call next on the generator first, because the generator needed to\n",
    "  be started. \n",
    "- Using send to a generator which hasn't been started leads to an exception.\n",
    "- To use the send method, generator must wait for a yield statement so that\n",
    "  the data sent can be processed or assigned to the variable on the left."
   ]
  }
 ],
 "metadata": {
  "kernelspec": {
   "display_name": "Python 3",
   "language": "python",
   "name": "python3"
  },
  "language_info": {
   "codemirror_mode": {
    "name": "ipython",
    "version": 3
   },
   "file_extension": ".py",
   "mimetype": "text/x-python",
   "name": "python",
   "nbconvert_exporter": "python",
   "pygments_lexer": "ipython3",
   "version": "3.11.7"
  }
 },
 "nbformat": 4,
 "nbformat_minor": 2
}
