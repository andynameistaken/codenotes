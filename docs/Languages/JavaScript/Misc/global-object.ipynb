{
 "cells": [
  {
   "cell_type": "markdown",
   "metadata": {},
   "source": [
    "# Global Object\n",
    "\n",
    "In JavaScript, there is always global object that exists in global scope.\n",
    "`var` statements (not in Node.js) and function declarations at the top level\n",
    "create properties of the global object. On the other hand, `let` and `const`\n",
    "declarations never create properties of the global object."
   ]
  },
  {
   "cell_type": "markdown",
   "metadata": {},
   "source": [
    "In JavaScript, the global object always holds a reference to itself:"
   ]
  },
  {
   "cell_type": "code",
   "execution_count": 5,
   "metadata": {},
   "outputs": [
    {
     "name": "stdout",
     "output_type": "stream",
     "text": [
      "true\n",
      "true\n"
     ]
    }
   ],
   "source": [
    "console.log(globalThis === globalThis.globalThis); // true (everywhere)\n",
    "// console.log(window === window.window); // true (in a browser)\n",
    "// console.log(self === self.self); // true (in a browser or a Web Worker)\n",
    "// ppconsole.log(frames === frames.frames); // true (in a browser)\n",
    "console.log(global === global.global); // true (in Node.js)\n"
   ]
  }
 ],
 "metadata": {
  "kernelspec": {
   "display_name": "JavaScript (Node.js)",
   "language": "javascript",
   "name": "javascript"
  },
  "language_info": {
   "file_extension": ".js",
   "mimetype": "application/javascript",
   "name": "javascript",
   "version": "20.12.0"
  }
 },
 "nbformat": 4,
 "nbformat_minor": 2
}
