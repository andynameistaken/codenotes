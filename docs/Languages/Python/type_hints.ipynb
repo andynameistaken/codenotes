{
 "cells": [
  {
   "cell_type": "markdown",
   "metadata": {},
   "source": [
    "# Type Hints\n",
    "\n",
    "Type hints in Python are a feature that allows you to explicitly indicate the\n",
    "expected data types of variables, function parameters, and return values. \n",
    "\n",
    "## Why use type hints?\n",
    "1. **Documentation**: Type hints can serve as a form of documentation for your code. They make it clear what type of data is expected and returned by functions.\n",
    "2. **Readability**: Type hints can make your code more readable by providing additional context about the expected data types.\n",
    "3. **Static type checkers**: Type hints can be used by static type checkers like `mypy` to catch type errors in your code before it runs.\n",
    "4. **IDE support**: Type hints can provide better code completion and error checking in IDEs that support them.\n",
    "5. **Code maintenance**: Type hints can help you catch type-related bugs early in the development process, making your code more robust and easier to maintain.\n"
   ]
  },
  {
   "cell_type": "markdown",
   "metadata": {},
   "source": [
    "## Basic Type Hints"
   ]
  },
  {
   "cell_type": "code",
   "execution_count": 4,
   "metadata": {},
   "outputs": [
    {
     "name": "stderr",
     "output_type": "stream",
     "text": [
      "Version 1.0.5\n"
     ]
    },
    {
     "name": "stdout",
     "output_type": "stream",
     "text": [
      "World\n"
     ]
    },
    {
     "data": {
      "text/plain": [
       "1"
      ]
     },
     "execution_count": 4,
     "metadata": {},
     "output_type": "execute_result"
    }
   ],
   "source": [
    "%load_ext nb_mypy \n",
    "# the function takes a string and returns a string\n",
    "def greet(name: str) -> str: \n",
    "    return name\n",
    "\n",
    "print(greet(\"World\"))\n",
    "# greet(1) # this will raise a type error im mypy:\n",
    "# Argument 1 to \"greet\" has incompatible type \"int\"; expected \"str\"\n"
   ]
  },
  {
   "cell_type": "markdown",
   "metadata": {},
   "source": [
    "In this function, name: str indicates that name should be a string, and -> str indicates that greet returns a string."
   ]
  },
  {
   "cell_type": "markdown",
   "metadata": {},
   "source": [
    "## Commonly Used Types from `typing` Module\n",
    "\n",
    "\n",
    "Python’s typing module provides several useful types that help with more complex scenarios:\n",
    "\n",
    "- `List`, `Tuple`, `Dict`, `Set`: For specifying types of collections.\n",
    "- `Optional`: For values that could be of a specified type or None.\n",
    "- `Union`: For values that could be one of several types.\n",
    "- `Callable`: For function parameters.\n",
    "- `Any`: When the type is unknown."
   ]
  },
  {
   "cell_type": "code",
   "execution_count": 1,
   "metadata": {},
   "outputs": [
    {
     "name": "stdout",
     "output_type": "stream",
     "text": [
      "({2, 3, 4}, 'This is some extra info')\n"
     ]
    }
   ],
   "source": [
    "from typing import List, Tuple, Dict, Set, Optional, Union, Callable, Any, Mapping\n",
    "\n",
    "\n",
    "def process_data(\n",
    "    data: List[int],  # A list of integers that will be transformed\n",
    "    transform: Callable[[int], int],  # A function that takes an integer and returns an integer\n",
    "    options: Optional[Mapping[str, Union[int, str]]] = None,  # An optional dictionary with string keys and integer or string values\n",
    ") -> Tuple[Set[int], Any]:  # The function returns a tuple. The first element is a set of integers, and the second element can be any type.\n",
    "\n",
    "    transformed_data: Set[int] = {transform(item) for item in data}\n",
    "\n",
    "    if options is not None:\n",
    "        extra_info = options.get('extra_info')\n",
    "    else:\n",
    "        extra_info = None\n",
    "\n",
    "    # Return a tuple containing the set of transformed data and the extra_info value\n",
    "    return transformed_data, extra_info\n",
    "\n",
    "data = [1, 2, 3]\n",
    "options = {'extra_info': 'This is some extra info'}\n",
    "\n",
    "result = process_data(data, lambda x: x + 1, options)\n",
    "\n",
    "print(result) "
   ]
  }
 ],
 "metadata": {
  "kernelspec": {
   "display_name": ".venv",
   "language": "python",
   "name": "python3"
  },
  "language_info": {
   "codemirror_mode": {
    "name": "ipython",
    "version": 3
   },
   "file_extension": ".py",
   "mimetype": "text/x-python",
   "name": "python",
   "nbconvert_exporter": "python",
   "pygments_lexer": "ipython3",
   "version": "3.12.3"
  }
 },
 "nbformat": 4,
 "nbformat_minor": 2
}
