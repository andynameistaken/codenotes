{
 "cells": [
  {
   "cell_type": "markdown",
   "metadata": {},
   "source": [
    "\n",
    "\n",
    "### Assignment Expressions\n",
    "- In most of languages assigning variables in the middle of expressions is not allowed.\n",
    "- Python allows that with a special operator: `:=`\n",
    "    - It is affectionately known as “the walrus operator” due to its resemblance to the eyes and tusks of a walrus.\n",
    "\n",
    "<img src=\"https://i.pinimg.com/originals/8e/15/9b/8e159b79fe49ea4c5f6e4c18c3d56930.jpg\" alt=\"picture of the walrus\" width=\"200\"/>\n",
    "\n",
    "- Here is sample of Java code which uses assignment and expression in single instruction:\n",
    "```java\n",
    "    if (int x = 5 > 1) { // this will return error\n",
    "            System.out.println(\"Number Bigger than 1\");\n",
    "        }\n",
    "```\n",
    "The code won't even compile.\n",
    "Compiler will return error that we need an `;` operator (which is used for end of the statement), but even if we would have it there, the code still won't run.\n",
    "\n",
    "- Here is same code written in Python:\n",
    "\n",
    "\n"
   ]
  },
  {
   "cell_type": "code",
   "execution_count": 1,
   "metadata": {},
   "outputs": [
    {
     "name": "stdout",
     "output_type": "stream",
     "text": [
      "Number 5 is bigger than 1\n"
     ]
    }
   ],
   "source": [
    "if (x := 5 ) > 1:\n",
    "    print(\"Number\", x, \"is bigger than 1\")"
   ]
  },
  {
   "cell_type": "markdown",
   "metadata": {},
   "source": [
    "- If we won't use parenthesis Python will evaluate whole statement first as `True` or `False` and then write it to the variable:\n"
   ]
  },
  {
   "cell_type": "code",
   "execution_count": 2,
   "metadata": {},
   "outputs": [
    {
     "name": "stdout",
     "output_type": "stream",
     "text": [
      "True is bigger than 1\n"
     ]
    }
   ],
   "source": [
    "if x := 5 > 1:\n",
    "    print(x, \"is bigger than 1\")\n",
    "else:\n",
    "    print(\"Number\", x, \"is not bigger than 1\")"
   ]
  },
  {
   "cell_type": "code",
   "execution_count": 4,
   "metadata": {},
   "outputs": [
    {
     "name": "stdout",
     "output_type": "stream",
     "text": [
      "False is not bigger than 1\n"
     ]
    }
   ],
   "source": [
    "if x := 0 > 1:\n",
    "    print(x, \"is bigger than 1\")\n",
    "else:\n",
    "    print(x, \"is not bigger than 1\")"
   ]
  },
  {
   "cell_type": "markdown",
   "metadata": {},
   "source": [
    "- Another example with list comprehensions \n",
    "    - Program that prints out odd numbers of the list that has values three times bigger than original, and value is lower than 20:"
   ]
  },
  {
   "cell_type": "code",
   "execution_count": null,
   "metadata": {},
   "outputs": [],
   "source": [
    "def f(x):\n",
    "    return x + 3\n",
    "\n",
    "numbers = [3, 7, 2, 9, 12]\n",
    "\n",
    "odd_numbers = [result for x in numbers if (result := f(x)) % 2 and result < 20]\n",
    "\n",
    "print(odd_numbers)"
   ]
  },
  {
   "cell_type": "markdown",
   "metadata": {},
   "source": [
    "- A program that adds cube to every number in the list if cube of this number is less than 20:\n"
   ]
  },
  {
   "cell_type": "code",
   "execution_count": null,
   "metadata": {},
   "outputs": [],
   "source": [
    "def f(x):\n",
    "    return x + 3\n",
    "\n",
    "numbers = [3, 7, 2, 9, 12]\n",
    "\n",
    "odd_numbers = [result for x in numbers if (result := f(x)) % 2 and result < 20]\n",
    "\n",
    "print(odd_numbers)"
   ]
  },
  {
   "cell_type": "code",
   "execution_count": null,
   "metadata": {},
   "outputs": [],
   "source": [
    "- A program that adds cube to every number in the list if cube of this number is less than 20:\n"
   ]
  },
  {
   "cell_type": "code",
   "execution_count": null,
   "metadata": {},
   "outputs": [],
   "source": [
    "def cube(x):\n",
    "    return x**3\n",
    "\n",
    "numbers = [1, 2, 3, 4, 5]\n",
    "\n",
    "less20_cubes = [result for val in numbers if (result := cube(val)) < 20]\n",
    "print(less20_cubes)\n"
   ]
  }
 ],
 "metadata": {
  "kernelspec": {
   "display_name": "Python 3.9.13 64-bit",
   "language": "python",
   "name": "python3"
  },
  "language_info": {
   "codemirror_mode": {
    "name": "ipython",
    "version": 3
   },
   "file_extension": ".py",
   "mimetype": "text/x-python",
   "name": "python",
   "nbconvert_exporter": "python",
   "pygments_lexer": "ipython3",
   "version": "3.9.13"
  },
  "orig_nbformat": 4,
  "vscode": {
   "interpreter": {
    "hash": "ac2eaa0ea0ebeafcc7822e65e46aa9d4f966f30b695406963e145ea4a91cd4fc"
   }
  }
 },
 "nbformat": 4,
 "nbformat_minor": 2
}
