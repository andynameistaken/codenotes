{
 "cells": [
  {
   "cell_type": "markdown",
   "metadata": {},
   "source": [
    "\n",
    "# Variables\n",
    "\n",
    "## Basics\n",
    "\n",
    "- A variable is a way of referring to a memory location used by a computer program.\n",
    "-  In many programming languages a variable is a symbolic name for this physical location.\n",
    "-  This memory location contains values, like numbers, text or more complicated types. \n",
    "-  We can use this variable to tell the computer to save some data in this location or to retrieve some data from this location.\n",
    "- here is a simple example of a variable:\n",
    "\n",
    "---\n",
    "\n",
    "```python\n",
    "x = 10\n",
    "```\n",
    "\n",
    "---\n",
    "\n",
    "- A variable `x` is assigned to the value `10`."
   ]
  },
  {
   "cell_type": "markdown",
   "metadata": {},
   "source": [
    "- The equal \"=\" sign in the assignment shouldn't be seen as \"is equal to\". It should be \"read\" or interpreted as \"is set to\"\n",
    "- When Python executes an assignment like \"i = 42\", it evaluates the right side of the assignment and recognizes that it corresponds to the integer number 42. \n",
    "- It creates an [object](repos/python-course/md/objects.md) of the integer class to save this data - The equal \"=\" sign in the assignment shouldn't be seen as \"is equal to\". It should be \"read\" or interpreted as \"is set to\"\n",
    "- In Python it is not possible to declare the variable without initializatizing it with a value. \n",
    "- - If there is need for a variable, you should think of a name and start using it as a variable.\n",
    "\n",
    "  "
   ]
  },
  {
   "cell_type": "markdown",
   "metadata": {},
   "source": [
    "- In other languages like Java there is possibility to declare variable first and initialize it later:\n",
    "\n",
    "```java\n",
    "int i;\n",
    "i = 10\n",
    "```"
   ]
  },
  {
   "cell_type": "markdown",
   "metadata": {},
   "source": [
    "## Dynamic vs Static Typing"
   ]
  },
  {
   "cell_type": "markdown",
   "metadata": {},
   "source": [
    "- Dynamically-typed languages perform type checking at runtime, while statically typed languages perform type checking at compile time.\n",
    "- This means that scripts written in dynamically-typed languages (like Groovy or Python) can compile or be run via interpreter even if they contain errors that will prevent the script from running properly (if at all).\n",
    "- If a script written in a statically-typed language (such as Java or C++) contains errors, it will fail to compile until the errors have been fixed.\n",
    "- For example if we run following program with all lines uncommented, it will calcute new `num` value, print it out and after that raise an error complaining about the fact that we can't use division for integer and string:"
   ]
  },
  {
   "cell_type": "code",
   "execution_count": 12,
   "metadata": {},
   "outputs": [],
   "source": [
    "num = 1\n",
    "word = \"dog\"\n",
    "num = num + len(word)\n",
    "# print(num)\n",
    "# print(num/word) # can't divide int by string"
   ]
  },
  {
   "cell_type": "markdown",
   "metadata": {},
   "source": [
    "- Functionally the same code in Java  won't compile:"
   ]
  },
  {
   "cell_type": "markdown",
   "metadata": {},
   "source": [
    "```java\n",
    "var num = 1;\n",
    "var word = \"dog\";\n",
    "num = num + word.length();\n",
    "System.out.println(num);\n",
    "System.out.println(num/word)\n",
    "```\n",
    "\n",
    "```\n",
    "❯ javac Test.java\n",
    "Test.java:14: error: bad operand types for binary operator '/'\n",
    "        System.out.println(num/word);\n",
    "                              ^\n",
    "  first type:  int\n",
    "  second type: String\n",
    "1 error\n",
    "```"
   ]
  },
  {
   "cell_type": "markdown",
   "metadata": {},
   "source": [
    "- Statically-typed languages (Java, C++) require you to declare the data types of your variables before you use them, while dynamically-typed languages do not.\n",
    "- In statically-typed languages you can declare variable first and initialize it later.\n"
   ]
  },
  {
   "cell_type": "markdown",
   "metadata": {},
   "source": [
    "=== \"C++\"\n",
    "\n",
    "\n",
    "```c++\n",
    "int i; // declaration of the variable\n",
    "i = 0; // initialization of the variable\n",
    "\n",
    "nt i; // declaration of the variable\n",
    "i = 0; // initialization of the variable\n",
    "\n",
    "int j = 1; // declaration and initialization\n",
    "\n",
    "```\n",
    "\n",
    "\n",
    "=== \"Java\"\n",
    "\n",
    "\n",
    "```java\n",
    "int i; // declaration of the variable\n",
    "i = 0; // initialization of the variable\n",
    "\n",
    "int j = 1; // declaration and initialization\n",
    "\n",
    "// Since Java 10\n",
    "// var keyword has to be initialized with a value \n",
    "var x = \"dog\" // x becomes String\n",
    "var y = 10 // y becomes an int\n",
    "// y = x // doesn't work, still static typing\n",
    "\n",
    "int j = 1; // declaration and initialization\n",
    "\n",
    "```\n",
    "\n",
    "\n",
    "=== \"Java\"\n",
    "\n",
    "\n",
    "```java\n",
    "int i; // declaration of the variable\n",
    "i = 0; // initialization of the variable\n",
    "\n",
    "int j = 1; // declaration and initialization\n",
    "\n",
    "// Since Java 10\n",
    "// var keyword has to be initialized with a value \n",
    "var x = \"dog\" // x becomes String\n",
    "var y = 10 // y becomes an int\n",
    "// y = x // doesn't work, still static typing\n",
    "\n",
    "```\n"
   ]
  },
  {
   "cell_type": "markdown",
   "metadata": {},
   "source": [
    "In Python it is not possible to just declare the variables, we always have to assign value to it:"
   ]
  },
  {
   "cell_type": "code",
   "execution_count": 13,
   "metadata": {},
   "outputs": [],
   "source": [
    "# x # it will raise an error: NameError: name 'x' is not defined\n",
    "x = 10 # fine"
   ]
  },
  {
   "cell_type": "markdown",
   "metadata": {},
   "source": [
    "- In Python (and rest of dynamically typed languages) not only the value of a variable may change during program execution, but the type as well.\n",
    "- You can assign an integer value to a variable, use it as an integer for a while and then assign a string to the same variable"
   ]
  },
  {
   "cell_type": "code",
   "execution_count": 14,
   "metadata": {},
   "outputs": [
    {
     "name": "stdout",
     "output_type": "stream",
     "text": [
      "1\n",
      "<class 'int'>\n",
      "1.1\n",
      "<class 'float'>\n",
      "it is a string now\n",
      "<class 'str'>\n"
     ]
    }
   ],
   "source": [
    "x = 1\n",
    "print(x)\n",
    "print(type(x))\n",
    "\n",
    "x = x + 0.1\n",
    "print(x)\n",
    "print(type(x))\n",
    "\n",
    "x = \"it is a string now\"\n",
    "print(x)\n",
    "print(type(x))"
   ]
  },
  {
   "cell_type": "markdown",
   "metadata": {},
   "source": [
    "## References\n",
    "- Python variables are references to objects, but the actual data is contained in the objects\n",
    "- Variables don't have types associated with them, because they are pointing to objects and objects can be of arbitrary data types.\n",
    "- For example the graphical representation of following code is shown below:\n",
    "```python\n",
    "x = 10\n",
    "```\n",
    "\n",
    "\n",
    "![reference](/repos/python-course/images/python_reference.png)\n",
    "\n"
   ]
  },
  {
   "cell_type": "markdown",
   "metadata": {},
   "source": [
    "- We can make more than reference point to the same object and check it with `id()` function (every instance (object or variable) has an identity, i.e., an integer which is unique within the script or program, i.e., other objects have different identities. )"
   ]
  },
  {
   "cell_type": "code",
   "execution_count": 15,
   "metadata": {},
   "outputs": [
    {
     "name": "stdout",
     "output_type": "stream",
     "text": [
      "x\n",
      "id(x) 4401379920\n",
      "y = x\n",
      "id(x) 4401379920\n",
      "id(y) 4401379920\n",
      "y = 5\n",
      "id(x) 4401379920\n"
     ]
    }
   ],
   "source": [
    "x = 10\n",
    "print(\"x\")\n",
    "print(\"id(x)\", id(x))\n",
    "\n",
    "y = x\n",
    "print(\"y = x\")\n",
    "print(\"id(x)\", id(x))\n",
    "print(\"id(y)\", id(y))\n",
    "\n",
    "y = 5\n",
    "print(\"y = 5\")\n",
    "print(\"id(x)\", id(x))"
   ]
  }
 ],
 "metadata": {
  "kernelspec": {
   "display_name": "Python 3.9.13 64-bit",
   "language": "python",
   "name": "python3"
  },
  "language_info": {
   "codemirror_mode": {
    "name": "ipython",
    "version": 3
   },
   "file_extension": ".py",
   "mimetype": "text/x-python",
   "name": "python",
   "nbconvert_exporter": "python",
   "pygments_lexer": "ipython3",
   "version": "3.9.13"
  },
  "vscode": {
   "interpreter": {
    "hash": "aee8b7b246df8f9039afb4144a1f6fd8d2ca17a180786b69acc140d282b71a49"
   }
  }
 },
 "nbformat": 4,
 "nbformat_minor": 4
}
